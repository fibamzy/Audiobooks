{
 "cells": [
  {
   "cell_type": "markdown",
   "id": "51b074cc",
   "metadata": {},
   "source": [
    "# Audiobooks Project - Preprocessing Stage"
   ]
  },
  {
   "cell_type": "markdown",
   "id": "12cf4e35",
   "metadata": {},
   "source": [
    "Steps:\n",
    "    1. Preprocess the data\n",
    "    2. Balance the dataset\n",
    "    3. Create s datasets (training, validation, test)\n",
    "    4. Save the newly created sets in a tensor friendly format (.npz)"
   ]
  },
  {
   "cell_type": "markdown",
   "id": "4aa56f09",
   "metadata": {},
   "source": [
    "### extract the data from the csv"
   ]
  },
  {
   "cell_type": "code",
   "execution_count": 1,
   "id": "c4893f65",
   "metadata": {},
   "outputs": [],
   "source": [
    "import numpy as np\n",
    "from sklearn import preprocessing # to standardize the inputs"
   ]
  },
  {
   "cell_type": "code",
   "execution_count": 2,
   "id": "69ee8278",
   "metadata": {},
   "outputs": [],
   "source": [
    "raw_csv_data = np.loadtxt('Audiobooks.csv', delimiter=',')\n",
    "\n",
    "# new variable excluding the ID and Targets:\n",
    "unscaled_inputs_all = raw_csv_data[:,1:-1]\n",
    "\n",
    "# new variable to record the targets:\n",
    "targets_all = raw_csv_data[:,-1]"
   ]
  },
  {
   "cell_type": "markdown",
   "id": "ac8be7a3",
   "metadata": {},
   "source": [
    "### balance the dataset"
   ]
  },
  {
   "cell_type": "code",
   "execution_count": 3,
   "id": "efa93e45",
   "metadata": {},
   "outputs": [],
   "source": [
    "# counting the targets that are 1's\n",
    "# zero is not an integer so it will take only ones\n",
    "num_one_targets = int(np.sum(targets_all))\n",
    "\n",
    "# counting the number of zeros:\n",
    "zero_targets_counter = 0\n",
    "\n",
    "# variable to record indices to be removed:\n",
    "indices_to_remove = []\n",
    "\n",
    "# iterate over the dataset and balance it:\n",
    "for i in range(targets_all.shape[0]):\n",
    "    if targets_all[i] == 0:\n",
    "        zero_targets_counter += 1\n",
    "        if zero_targets_counter > num_one_targets:\n",
    "            indices_to_remove.append(i) # this will contain indices of data we dont need\n",
    "\n",
    "unscaled_inputs_equal_priors = np.delete(unscaled_inputs_all, indices_to_remove, axis=0)\n",
    "targets_equal_priors = np.delete(targets_all, indices_to_remove, axis=0)"
   ]
  },
  {
   "cell_type": "markdown",
   "id": "c9af8cdb",
   "metadata": {},
   "source": [
    "### standardize the inputs"
   ]
  },
  {
   "cell_type": "code",
   "execution_count": 4,
   "id": "5e1cc8e8",
   "metadata": {},
   "outputs": [],
   "source": [
    "scaled_inputs = preprocessing.scale(unscaled_inputs_equal_priors)"
   ]
  },
  {
   "cell_type": "markdown",
   "id": "00dcc8ea",
   "metadata": {},
   "source": [
    "### shuffle the data"
   ]
  },
  {
   "cell_type": "code",
   "execution_count": 5,
   "id": "1ae12c75",
   "metadata": {},
   "outputs": [],
   "source": [
    "# since we will be batching, we must shuffle the data, making it as randomly spread as possible\n",
    "\n",
    "shuffled_indices = np.arange(scaled_inputs.shape[0])\n",
    "np.random.shuffle(shuffled_indices)\n",
    "\n",
    "shuffled_inputs = scaled_inputs[shuffled_indices]\n",
    "shuffled_targets = targets_equal_priors[shuffled_indices]"
   ]
  },
  {
   "cell_type": "markdown",
   "id": "3a1ee2bf",
   "metadata": {},
   "source": [
    "### split the data into train, validation, and test"
   ]
  },
  {
   "cell_type": "code",
   "execution_count": 11,
   "id": "ca83e56e",
   "metadata": {},
   "outputs": [
    {
     "name": "stdout",
     "output_type": "stream",
     "text": [
      "Training:  1797.0 3579 0.5020955574182733\n",
      "Validation:  214.0 447 0.47874720357941836\n",
      "Test:  226.0 448 0.5044642857142857\n"
     ]
    }
   ],
   "source": [
    "samples_count = shuffled_inputs.shape[0]\n",
    "\n",
    "# using the 80 / 10 / 10 split\n",
    "train_samples_count = int(0.8*samples_count)\n",
    "validation_samples_count = int(0.1*samples_count)\n",
    "test_samples_count = samples_count - train_samples_count - validation_samples_count\n",
    "\n",
    "train_inputs = shuffled_inputs[:train_samples_count]\n",
    "train_targets = shuffled_targets[:train_samples_count]\n",
    "\n",
    "validation_inputs = shuffled_inputs[train_samples_count:train_samples_count + validation_samples_count]\n",
    "validation_targets = shuffled_targets[train_samples_count:train_samples_count + validation_samples_count]\n",
    "\n",
    "test_inputs = shuffled_inputs[train_samples_count + validation_samples_count:]\n",
    "test_targets = shuffled_targets[train_samples_count + validation_samples_count:]\n",
    "\n",
    "# to check balancing of dataset\n",
    "print('Training: ', np.sum(train_targets), train_samples_count, np.sum(train_targets) / train_samples_count)\n",
    "print('Validation: ', np.sum(validation_targets), validation_samples_count, np.sum(validation_targets) / validation_samples_count)\n",
    "print('Test: ', np.sum(test_targets), test_samples_count, np.sum(test_targets) / test_samples_count)"
   ]
  },
  {
   "cell_type": "markdown",
   "id": "fb5de635",
   "metadata": {},
   "source": [
    "the proportion is around 50% for each class, which is fine\n",
    "about +-5% around 50% is fine"
   ]
  },
  {
   "cell_type": "markdown",
   "id": "4d185da8",
   "metadata": {},
   "source": [
    "### save the 3 datasets in .npz"
   ]
  },
  {
   "cell_type": "code",
   "execution_count": 12,
   "id": "81a09782",
   "metadata": {},
   "outputs": [],
   "source": [
    "np.savez('Audiobooks_data_train', inputs=train_inputs, targets=train_targets)\n",
    "np.savez('Audiobooks_data_validation', inputs=validation_inputs, targets=validation_targets)\n",
    "np.savez('Audiobooks_data_test', inputs=test_inputs, targets=test_targets)"
   ]
  },
  {
   "cell_type": "markdown",
   "id": "73f54b4e",
   "metadata": {},
   "source": [
    "that completes preprocessing. the above code to this point can be used to preprocess any dataset with two classes"
   ]
  },
  {
   "cell_type": "markdown",
   "id": "d3cf142e",
   "metadata": {},
   "source": [
    "if to be used for dataset with more classes, modification is to be made at the balancing point to more than 2, then the rest of the code will work"
   ]
  },
  {
   "cell_type": "code",
   "execution_count": null,
   "id": "632b9708",
   "metadata": {},
   "outputs": [],
   "source": []
  }
 ],
 "metadata": {
  "kernelspec": {
   "display_name": "Python [conda env:tensorflow2] *",
   "language": "python",
   "name": "conda-env-tensorflow2-py"
  },
  "language_info": {
   "codemirror_mode": {
    "name": "ipython",
    "version": 3
   },
   "file_extension": ".py",
   "mimetype": "text/x-python",
   "name": "python",
   "nbconvert_exporter": "python",
   "pygments_lexer": "ipython3",
   "version": "3.8.18"
  }
 },
 "nbformat": 4,
 "nbformat_minor": 5
}
