{
 "cells": [
  {
   "cell_type": "markdown",
   "id": "6b4f534e",
   "metadata": {},
   "source": [
    "# create the machine learning algorithm"
   ]
  },
  {
   "cell_type": "markdown",
   "id": "470b8420",
   "metadata": {},
   "source": [
    "### import the relevant libraries"
   ]
  },
  {
   "cell_type": "code",
   "execution_count": 1,
   "id": "d75d5506",
   "metadata": {},
   "outputs": [],
   "source": [
    "import numpy as np\n",
    "import tensorflow as tf"
   ]
  },
  {
   "cell_type": "markdown",
   "id": "4b07e0c3",
   "metadata": {},
   "source": [
    "### load the data"
   ]
  },
  {
   "cell_type": "code",
   "execution_count": 3,
   "id": "b5f7ada0",
   "metadata": {},
   "outputs": [],
   "source": [
    "# for the training data\n",
    "npz = np.load('Audiobooks_data_train.npz')\n",
    "\n",
    "# extracting the train inputs\n",
    "train_inputs = npz['inputs'].astype(float)\n",
    "\n",
    "# extract train targets\n",
    "train_targets = npz['targets'].astype(int) # need this in 0's and 1's\n",
    "\n",
    "# for the validation data\n",
    "npz = np.load('Audiobooks_data_validation.npz')\n",
    "validation_inputs, validation_targets = npz['inputs'].astype(float), npz['targets'].astype(int)\n",
    "\n",
    "# for the test data\n",
    "npz = np.load('Audiobooks_data_test.npz')\n",
    "test_inputs, test_targets = npz['inputs'].astype(float), npz['targets'].astype(int)"
   ]
  },
  {
   "cell_type": "markdown",
   "id": "7363b6a4",
   "metadata": {},
   "source": [
    "### create the model"
   ]
  },
  {
   "cell_type": "markdown",
   "id": "6a15972b",
   "metadata": {},
   "source": [
    "outline, optimizers, loss, early stopping and training"
   ]
  },
  {
   "cell_type": "code",
   "execution_count": 14,
   "id": "d0432d32",
   "metadata": {},
   "outputs": [],
   "source": [
    "input_size = 10\n",
    "output_size = 2\n",
    "hidden_layer_size = 50\n",
    "\n",
    "# define actual model\n",
    "model = tf.keras.Sequential([\n",
    "    # dataset has been preprocessed, we dont need to flatten\n",
    "    \n",
    "    # hidden layers\n",
    "    tf.keras.layers.Dense(hidden_layer_size, activation='relu'),\n",
    "    tf.keras.layers.Dense(hidden_layer_size, activation='relu'),\n",
    "    \n",
    "    # output layer\n",
    "    tf.keras.layers.Dense(output_size, activation='softmax')\n",
    "])"
   ]
  },
  {
   "cell_type": "code",
   "execution_count": 15,
   "id": "fe16d68a",
   "metadata": {},
   "outputs": [],
   "source": [
    "# optimiser and loss function:\n",
    "\n",
    "model.compile(optimizer='adam', loss='sparse_categorical_crossentropy', metrics=['accuracy'])\n",
    "\n",
    "# sparse_categorical_crossentropy - used for one-hot encoding applications\n",
    "# adam - adaptive moment estimation"
   ]
  },
  {
   "cell_type": "code",
   "execution_count": 19,
   "id": "97837de7",
   "metadata": {},
   "outputs": [],
   "source": [
    "# setting hyperparameters : batch size, epochs, and early stop\n",
    "\n",
    "batch_size = 100\n",
    "max_epochs = 100\n",
    "early_stopping = tf.keras.callbacks.EarlyStopping(patience=2)\n",
    "\n",
    "# monitors when val loss starts to increase. the patience attribute is by default = 0.\n",
    "# to modify this level of strictness, we can change that to the number of times increases in loss functions are observed, \n",
    "# when we can then confirm overfitting is taking place"
   ]
  },
  {
   "cell_type": "code",
   "execution_count": 20,
   "id": "679e08b1",
   "metadata": {},
   "outputs": [
    {
     "name": "stdout",
     "output_type": "stream",
     "text": [
      "Epoch 1/100\n",
      "36/36 - 0s - loss: 0.3777 - accuracy: 0.8019 - val_loss: 0.3885 - val_accuracy: 0.7651 - 87ms/epoch - 2ms/step\n",
      "Epoch 2/100\n",
      "36/36 - 0s - loss: 0.3667 - accuracy: 0.8005 - val_loss: 0.3766 - val_accuracy: 0.7740 - 61ms/epoch - 2ms/step\n",
      "Epoch 3/100\n",
      "36/36 - 0s - loss: 0.3608 - accuracy: 0.8047 - val_loss: 0.3810 - val_accuracy: 0.7830 - 53ms/epoch - 1ms/step\n",
      "Epoch 4/100\n",
      "36/36 - 0s - loss: 0.3564 - accuracy: 0.8055 - val_loss: 0.3724 - val_accuracy: 0.7875 - 61ms/epoch - 2ms/step\n",
      "Epoch 5/100\n",
      "36/36 - 0s - loss: 0.3483 - accuracy: 0.8153 - val_loss: 0.3785 - val_accuracy: 0.7785 - 58ms/epoch - 2ms/step\n",
      "Epoch 6/100\n",
      "36/36 - 0s - loss: 0.3454 - accuracy: 0.8142 - val_loss: 0.3566 - val_accuracy: 0.7852 - 66ms/epoch - 2ms/step\n",
      "Epoch 7/100\n",
      "36/36 - 0s - loss: 0.3424 - accuracy: 0.8142 - val_loss: 0.3518 - val_accuracy: 0.7942 - 60ms/epoch - 2ms/step\n",
      "Epoch 8/100\n",
      "36/36 - 0s - loss: 0.3455 - accuracy: 0.8161 - val_loss: 0.3590 - val_accuracy: 0.7852 - 64ms/epoch - 2ms/step\n",
      "Epoch 9/100\n",
      "36/36 - 0s - loss: 0.3384 - accuracy: 0.8201 - val_loss: 0.3462 - val_accuracy: 0.8054 - 64ms/epoch - 2ms/step\n",
      "Epoch 10/100\n",
      "36/36 - 0s - loss: 0.3340 - accuracy: 0.8198 - val_loss: 0.3502 - val_accuracy: 0.7897 - 58ms/epoch - 2ms/step\n",
      "Epoch 11/100\n",
      "36/36 - 0s - loss: 0.3314 - accuracy: 0.8245 - val_loss: 0.3432 - val_accuracy: 0.8009 - 62ms/epoch - 2ms/step\n",
      "Epoch 12/100\n",
      "36/36 - 0s - loss: 0.3319 - accuracy: 0.8217 - val_loss: 0.3416 - val_accuracy: 0.8098 - 57ms/epoch - 2ms/step\n",
      "Epoch 13/100\n",
      "36/36 - 0s - loss: 0.3295 - accuracy: 0.8240 - val_loss: 0.3478 - val_accuracy: 0.8121 - 57ms/epoch - 2ms/step\n",
      "Epoch 14/100\n",
      "36/36 - 0s - loss: 0.3284 - accuracy: 0.8234 - val_loss: 0.3389 - val_accuracy: 0.8076 - 62ms/epoch - 2ms/step\n",
      "Epoch 15/100\n",
      "36/36 - 0s - loss: 0.3262 - accuracy: 0.8279 - val_loss: 0.3481 - val_accuracy: 0.7897 - 63ms/epoch - 2ms/step\n",
      "Epoch 16/100\n",
      "36/36 - 0s - loss: 0.3255 - accuracy: 0.8338 - val_loss: 0.3378 - val_accuracy: 0.8166 - 59ms/epoch - 2ms/step\n",
      "Epoch 17/100\n",
      "36/36 - 0s - loss: 0.3251 - accuracy: 0.8282 - val_loss: 0.3380 - val_accuracy: 0.8098 - 63ms/epoch - 2ms/step\n",
      "Epoch 18/100\n",
      "36/36 - 0s - loss: 0.3285 - accuracy: 0.8192 - val_loss: 0.3412 - val_accuracy: 0.7964 - 56ms/epoch - 2ms/step\n"
     ]
    },
    {
     "data": {
      "text/plain": [
       "<keras.callbacks.History at 0x2951cf9b910>"
      ]
     },
     "execution_count": 20,
     "metadata": {},
     "output_type": "execute_result"
    }
   ],
   "source": [
    "# fit the model:\n",
    "\n",
    "model.fit(train_inputs,\n",
    "         train_targets,\n",
    "         batch_size = batch_size,\n",
    "         epochs = max_epochs,\n",
    "         callbacks=[early_stopping],\n",
    "         validation_data=(validation_inputs, validation_targets),\n",
    "         verbose = 2)"
   ]
  },
  {
   "cell_type": "markdown",
   "id": "7a65fc38",
   "metadata": {},
   "source": [
    "### test the model"
   ]
  },
  {
   "cell_type": "markdown",
   "id": "20aa331a",
   "metadata": {},
   "source": [
    "model.evaluate() returns the loss value and metrics values for the model in the 'test mode'"
   ]
  },
  {
   "cell_type": "code",
   "execution_count": 21,
   "id": "ae70ff48",
   "metadata": {},
   "outputs": [
    {
     "name": "stdout",
     "output_type": "stream",
     "text": [
      "14/14 [==============================] - 0s 1ms/step - loss: 0.3425 - accuracy: 0.8013\n"
     ]
    }
   ],
   "source": [
    "test_loss, test_accuracy = model.evaluate(test_inputs, test_targets)"
   ]
  },
  {
   "cell_type": "code",
   "execution_count": 22,
   "id": "303e2f00",
   "metadata": {},
   "outputs": [
    {
     "name": "stdout",
     "output_type": "stream",
     "text": [
      "\n",
      "Test loss: 0.34. \n",
      "Test accuracy: 80.13%\n"
     ]
    }
   ],
   "source": [
    "print('\\nTest loss: {0:.2f}. \\nTest accuracy: {1:.2f}%'.format(test_loss, test_accuracy*100.))"
   ]
  },
  {
   "cell_type": "code",
   "execution_count": null,
   "id": "33307b36",
   "metadata": {},
   "outputs": [],
   "source": []
  }
 ],
 "metadata": {
  "kernelspec": {
   "display_name": "Python [conda env:tensorflow2] *",
   "language": "python",
   "name": "conda-env-tensorflow2-py"
  },
  "language_info": {
   "codemirror_mode": {
    "name": "ipython",
    "version": 3
   },
   "file_extension": ".py",
   "mimetype": "text/x-python",
   "name": "python",
   "nbconvert_exporter": "python",
   "pygments_lexer": "ipython3",
   "version": "3.8.18"
  }
 },
 "nbformat": 4,
 "nbformat_minor": 5
}
